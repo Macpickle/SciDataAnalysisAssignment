{
 "cells": [
  {
   "cell_type": "markdown",
   "metadata": {},
   "source": [
    "# Examining relation between Nvidia stock prices and consumer hardware marketshare\n"
   ]
  },
  {
   "cell_type": "markdown",
   "metadata": {},
   "source": [
    "By Izaan Syed, 100922342\n",
    "\n",
    "Provide the reader with some background on your question and data. Where\n",
    "did you get your data? What question looked interesting given the data you chose? This\n",
    "section should be between 150-500 words\n",
    "\n",
    "In recent days, Nvidia stock prices have skyrocketed. I wanted to see if their consumer GPU marketshare can be attributed to their stock prices going up.\n",
    "\n",
    "The time period observed will be October 2024, to November 2019. Chosen as the latest steam hardware survery data was last updated for October 2024, and last full month of stock trading (november not finished yet).\n",
    "\n",
    "The data was collected from Marketwatch; https://www.marketwatch.com/investing/stock/amd/download-data?startDate=11/15/2019&endDate=11/15/2020 , and the steam hardware survery, found in CSV format here: https://github.com/jdegene/steamHWsurvey\n",
    "\n",
    "Unfortunately, the steam hardware survey does not report total participants, rather only percentages. This means that the comparison will have to be made between marketshare dominance (compared to Intel and AMD) and stock prices, rather than just GPU units compared to stock price.\n",
    "\n",
    "Spikes can be attributed 20/16 series launch, 30 series launch, 40 series launch, AMD 5XXX series 6XXX series, 7XXX series"
   ]
  },
  {
   "cell_type": "markdown",
   "metadata": {},
   "source": [
    "stock split dates: 6/10/2024, 7/20/2021"
   ]
  },
  {
   "cell_type": "code",
   "execution_count": null,
   "metadata": {},
   "outputs": [
    {
     "name": "stdout",
     "output_type": "stream",
     "text": [
      "       date  percentage\n",
      "0   2019-11      0.6919\n",
      "1   2019-12      0.6935\n",
      "2   2020-01      0.6921\n",
      "3   2020-02      0.6861\n",
      "4   2020-03      0.6804\n",
      "5   2020-04      0.6680\n",
      "6   2020-05      0.6621\n",
      "7   2020-06      0.6744\n",
      "8   2020-07      0.6785\n",
      "9   2020-08      0.6786\n",
      "10  2020-09      0.6776\n",
      "11  2020-10      0.6766\n",
      "12  2020-11      0.6822\n",
      "13  2020-12      0.7219\n",
      "14  2021-01      0.6856\n",
      "15  2021-02      0.6914\n",
      "16  2021-03      0.6961\n",
      "17  2021-04      0.7009\n",
      "18  2021-05      0.6965\n",
      "19  2021-06      0.7060\n",
      "20  2021-07      0.6916\n",
      "21  2021-08      0.7142\n",
      "22  2021-09      0.7033\n",
      "23  2021-10      0.6952\n",
      "24  2021-11      0.6988\n",
      "25  2021-12      0.7064\n",
      "26  2022-01      0.6973\n",
      "27  2022-02      0.7067\n",
      "28  2022-03      0.7168\n",
      "29  2022-04      0.7073\n",
      "30  2022-05      0.7214\n",
      "31  2022-06      0.7062\n",
      "32  2022-07      0.7395\n",
      "33  2022-08      0.7085\n",
      "34  2022-09      0.7218\n",
      "35  2022-10      0.7357\n",
      "36  2022-11      0.7057\n",
      "37  2022-12      0.7031\n",
      "38  2023-01      0.6936\n",
      "39  2023-02      0.7105\n",
      "40  2023-03      0.8030\n",
      "41  2023-04      0.7100\n",
      "42  2023-05      0.7104\n",
      "43  2023-06      0.7078\n",
      "44  2023-07      0.6882\n",
      "45  2023-08      0.7029\n",
      "46  2023-09      0.7237\n",
      "47  2023-10      0.7699\n",
      "48  2023-11      0.7015\n",
      "49  2023-12      0.6897\n",
      "50  2024-01      0.6958\n",
      "51  2024-02      0.7226\n",
      "52  2024-03      0.7246\n",
      "53  2024-04      0.7208\n",
      "54  2024-05      0.7608\n",
      "55  2024-06      0.7172\n",
      "56  2024-07      0.7162\n",
      "57  2024-08      0.7215\n",
      "58  2024-09      0.7336\n",
      "59  2024-10      0.9506\n"
     ]
    }
   ],
   "source": [
    "#Cleaning of SHS survery for data on Nvidia Marketshare\n",
    "\n",
    "import pandas as pd\n",
    "\n",
    "shs = pd.read_csv('shs.csv')\n",
    "\n",
    "# find the index of the row of 2019-11-01\n",
    "idx = shs[shs['date'] == '2019-11-01'].index[0]\n",
    "\n",
    "# delete all rows prior to idx\n",
    "shs = shs.loc[idx:]\n",
    "\n",
    "# delete all columns that do not have 'Video Card Description' in the category row\n",
    "shs = shs[shs['category'].str.contains('Video Card Description')]\n",
    "\n",
    "# delete all rows that do not have 'NVIDIA' in the description row. an example of what the description row looks like is 'NVIDIA GeForce 840M,'\n",
    "shs = shs[shs['name'].str.contains('NVIDIA', na=False, case=False)]\n",
    "\n",
    "#save as shs2.csv\n",
    "shs.to_csv('shs2.csv', index=False)\n",
    "\n",
    "#for each month add up the percentage of marketshare of each video card, creating a total nvidia marketshare column for every month. this will be stored in a different variable\n",
    "\n",
    "# Calculate the total NVIDIA market share for each month\n",
    "# Convert the 'date' column to datetime for grouping\n",
    "shs['date'] = pd.to_datetime(shs['date'])\n",
    "\n",
    "# Group by year and month, and sum up the percentages\n",
    "nvidia_marketshare = shs.groupby(shs['date'].dt.to_period('M'))['percentage'].sum().reset_index()\n",
    "\n",
    "# Convert period to a string representation for easier handling\n",
    "nvidia_marketshare['date'] = nvidia_marketshare['date'].astype(str)\n",
    "\n",
    "# Save NVIDIA market share data to a new CSV file if needed\n",
    "nvidia_marketshare.to_csv('nvidia_marketshare.csv', index=False)\n",
    "\n",
    "# Print the resulting market share DataFrame\n",
    "print(nvidia_marketshare)\n"
   ]
  },
  {
   "cell_type": "code",
   "execution_count": 29,
   "metadata": {},
   "outputs": [
    {
     "name": "stdout",
     "output_type": "stream",
     "text": [
      "       Date    Open    High     Low   Close          Volume\n",
      "0   11/2024  134.70  149.77  134.57  141.98   2,197,686,188\n",
      "1   10/2024  121.77  144.42  115.14  132.76   5,628,704,705\n",
      "2   09/2024  116.01  127.67  100.95  121.44   6,270,527,952\n",
      "3   08/2024  117.53  131.26   90.69  119.37   8,105,367,751\n",
      "4   07/2024  123.47  136.15  102.54  117.02   6,407,092,844\n",
      "..      ...     ...     ...     ...     ...             ...\n",
      "8   03/2020    6.92    7.12    4.52    6.59  15,777,535,522\n",
      "9   02/2020    5.89    7.91    5.89    6.75  11,855,193,681\n",
      "10  01/2020    5.97    6.49    5.78    5.91   6,132,787,699\n",
      "11  12/2019    5.41    6.05    5.01    5.88   6,572,843,654\n",
      "12  11/2019    5.24    5.54    5.02    5.42   4,281,434,917\n",
      "\n",
      "[61 rows x 6 columns]\n"
     ]
    }
   ],
   "source": [
    "#Cleaning of Nvidia Stock market data.\n",
    "\n",
    "import pandas as pd\n",
    "\n",
    "#combine NVDA1, NVDA2, NVDA3, NVDA4, NVDA5 csv files\n",
    "\n",
    "nvda1 = pd.read_csv('NVDA1.csv')\n",
    "nvda2 = pd.read_csv('NVDA2.csv')\n",
    "nvda3 = pd.read_csv('NVDA3.csv')\n",
    "nvda4 = pd.read_csv('NVDA4.csv')\n",
    "nvda5 = pd.read_csv('NVDA5.csv')\n",
    "\n",
    "nvda = pd.concat([nvda1, nvda2, nvda3, nvda4, nvda5])\n",
    "\n",
    "#Novembers are recorded twice. Remove the first november at it is not measured at the correct day.\n",
    "#example:\n",
    "#11/2023,49.94,50.55,46.42,46.77,\"5,023,731,040\"\n",
    "#11/2023,40.88,49.96,40.87,48.89,\"4,601,516,714\"\n",
    "\n",
    "#save as nvda-final.csv\n",
    "nvda.to_csv('NVDA-Final.csv', index=False)\n",
    "\n",
    "print(nvda)\n"
   ]
  }
 ],
 "metadata": {
  "kernelspec": {
   "display_name": "base",
   "language": "python",
   "name": "python3"
  },
  "language_info": {
   "codemirror_mode": {
    "name": "ipython",
    "version": 3
   },
   "file_extension": ".py",
   "mimetype": "text/x-python",
   "name": "python",
   "nbconvert_exporter": "python",
   "pygments_lexer": "ipython3",
   "version": "3.12.4"
  }
 },
 "nbformat": 4,
 "nbformat_minor": 2
}
