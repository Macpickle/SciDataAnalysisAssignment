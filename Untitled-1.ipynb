{
 "cells": [
  {
   "cell_type": "markdown",
   "metadata": {},
   "source": [
    "# Examining relation between Nvidia stock prices and consumer hardware marketshare\n"
   ]
  },
  {
   "cell_type": "markdown",
   "metadata": {},
   "source": [
    "Provide the reader with some background on your question and data. Where\n",
    "did you get your data? What question looked interesting given the data you chose? This\n",
    "section should be between 150-500 words\n",
    "\n",
    "In recent days, Nvidia stock prices have skyrocketed. I wanted to see if their consumer GPU marketshare can be attributed to their stock prices going up.\n",
    "\n",
    "The data was collected from Marketwatch; https://www.marketwatch.com/investing/stock/amd/download-data?startDate=11/15/2019&endDate=11/15/2020 , and the steam hardware survery, found in CSV format here: https://github.com/jdegene/steamHWsurvey"
   ]
  },
  {
   "cell_type": "markdown",
   "metadata": {},
   "source": [
    "stock split dates: 6/10/2024, 7/20/2021"
   ]
  }
 ],
 "metadata": {
  "kernelspec": {
   "display_name": "Python 3",
   "language": "python",
   "name": "python3"
  },
  "language_info": {
   "codemirror_mode": {
    "name": "ipython",
    "version": 3
   },
   "file_extension": ".py",
   "mimetype": "text/x-python",
   "name": "python",
   "nbconvert_exporter": "python",
   "pygments_lexer": "ipython3",
   "version": "3.12.7"
  }
 },
 "nbformat": 4,
 "nbformat_minor": 2
}
